{
  "nbformat": 4,
  "nbformat_minor": 0,
  "metadata": {
    "colab": {
      "name": "Malik Arbaaz :-Hotel Booking Analysis - Capstone Project.ipynb",
      "provenance": [],
      "collapsed_sections": [],
      "include_colab_link": true
    },
    "kernelspec": {
      "display_name": "Python 3",
      "language": "python",
      "name": "python3"
    },
    "language_info": {
      "codemirror_mode": {
        "name": "ipython",
        "version": 3
      },
      "file_extension": ".py",
      "mimetype": "text/x-python",
      "name": "python",
      "nbconvert_exporter": "python",
      "pygments_lexer": "ipython3",
      "version": "3.6.6"
    }
  },
  "cells": [
    {
      "cell_type": "markdown",
      "metadata": {
        "id": "view-in-github",
        "colab_type": "text"
      },
      "source": [
        "<a href=\"https://colab.research.google.com/github/Malikarbaaz/Malik-Hotel-booking-EDA-/blob/main/Malik_Arbaaz_Hotel_Booking_Analysis_Capstone_Project.ipynb\" target=\"_parent\"><img src=\"https://colab.research.google.com/assets/colab-badge.svg\" alt=\"Open In Colab\"/></a>"
      ]
    },
    {
      "cell_type": "markdown",
      "metadata": {
        "id": "Y06xIdG26kRF"
      },
      "source": [
        "## <b> Have you ever wondered when the best time of year to book a hotel room is? Or the optimal length of stay in order to get the best daily rate? What if you wanted to predict whether or not a hotel was likely to receive a disproportionately high number of special requests? This hotel booking dataset can help you explore those questions!\n",
        "\n",
        "## <b>This data set contains booking information for a city hotel and a resort hotel, and includes information such as when the booking was made, length of stay, the number of adults, children, and/or babies, and the number of available parking spaces, among other things. All personally identifying information has been removed from the data. </b>\n",
        "\n",
        "## <b> Explore and analyze the data to discover important factors that govern the bookings. </b>"
      ]
    },
    {
      "cell_type": "code",
      "metadata": {
        "id": "9QwFGZ1cMJKC"
      },
      "source": [
        "# Importing Libraries\n",
        "import pandas as pd\n",
        "import numpy as np\n",
        "import matplotlib.pyplot as plt\n",
        "import seaborn as sns\n",
        "%matplotlib inline\n",
        "import warnings\n",
        "warnings.filterwarnings('ignore')"
      ],
      "execution_count": null,
      "outputs": []
    },
    {
      "cell_type": "code",
      "metadata": {
        "colab": {
          "base_uri": "https://localhost:8080/"
        },
        "id": "9D4lI7eWpN9f",
        "outputId": "8449dda2-123c-4d4d-c49a-3e14db24095d"
      },
      "source": [
        "# Mounting google colab\n",
        "from google.colab import drive\n",
        "drive.mount('/content/drive')"
      ],
      "execution_count": null,
      "outputs": [
        {
          "output_type": "stream",
          "name": "stdout",
          "text": [
            "Mounted at /content/drive\n"
          ]
        }
      ]
    },
    {
      "cell_type": "code",
      "metadata": {
        "id": "qCbSaB4CMJEU"
      },
      "source": [
        "# Importing Dataset\n",
        "file_path = '/content/drive/MyDrive/Hotel Booking Analysis/Hotel Bookings.csv'"
      ],
      "execution_count": null,
      "outputs": []
    },
    {
      "cell_type": "code",
      "metadata": {
        "id": "o9vIpITmMJAL"
      },
      "source": [
        "# Reading our Dataset\n",
        "data = pd.read_csv(file_path)"
      ],
      "execution_count": null,
      "outputs": []
    },
    {
      "cell_type": "code",
      "metadata": {
        "colab": {
          "base_uri": "https://localhost:8080/",
          "height": 305
        },
        "id": "HABYi-ljMI5-",
        "outputId": "ce61756b-3051-4328-b8ce-28131a69c9de"
      },
      "source": [
        "# head gives the top 5 rows of our dataset\n",
        "data.head()"
      ],
      "execution_count": null,
      "outputs": [
        {
          "output_type": "execute_result",
          "data": {
            "text/html": [
              "<div>\n",
              "<style scoped>\n",
              "    .dataframe tbody tr th:only-of-type {\n",
              "        vertical-align: middle;\n",
              "    }\n",
              "\n",
              "    .dataframe tbody tr th {\n",
              "        vertical-align: top;\n",
              "    }\n",
              "\n",
              "    .dataframe thead th {\n",
              "        text-align: right;\n",
              "    }\n",
              "</style>\n",
              "<table border=\"1\" class=\"dataframe\">\n",
              "  <thead>\n",
              "    <tr style=\"text-align: right;\">\n",
              "      <th></th>\n",
              "      <th>hotel</th>\n",
              "      <th>is_canceled</th>\n",
              "      <th>lead_time</th>\n",
              "      <th>arrival_date_year</th>\n",
              "      <th>arrival_date_month</th>\n",
              "      <th>arrival_date_week_number</th>\n",
              "      <th>arrival_date_day_of_month</th>\n",
              "      <th>stays_in_weekend_nights</th>\n",
              "      <th>stays_in_week_nights</th>\n",
              "      <th>adults</th>\n",
              "      <th>children</th>\n",
              "      <th>babies</th>\n",
              "      <th>meal</th>\n",
              "      <th>country</th>\n",
              "      <th>market_segment</th>\n",
              "      <th>distribution_channel</th>\n",
              "      <th>is_repeated_guest</th>\n",
              "      <th>previous_cancellations</th>\n",
              "      <th>previous_bookings_not_canceled</th>\n",
              "      <th>reserved_room_type</th>\n",
              "      <th>assigned_room_type</th>\n",
              "      <th>booking_changes</th>\n",
              "      <th>deposit_type</th>\n",
              "      <th>agent</th>\n",
              "      <th>company</th>\n",
              "      <th>days_in_waiting_list</th>\n",
              "      <th>customer_type</th>\n",
              "      <th>adr</th>\n",
              "      <th>required_car_parking_spaces</th>\n",
              "      <th>total_of_special_requests</th>\n",
              "      <th>reservation_status</th>\n",
              "      <th>reservation_status_date</th>\n",
              "    </tr>\n",
              "  </thead>\n",
              "  <tbody>\n",
              "    <tr>\n",
              "      <th>0</th>\n",
              "      <td>Resort Hotel</td>\n",
              "      <td>0</td>\n",
              "      <td>342</td>\n",
              "      <td>2015</td>\n",
              "      <td>July</td>\n",
              "      <td>27</td>\n",
              "      <td>1</td>\n",
              "      <td>0</td>\n",
              "      <td>0</td>\n",
              "      <td>2</td>\n",
              "      <td>0.0</td>\n",
              "      <td>0</td>\n",
              "      <td>BB</td>\n",
              "      <td>PRT</td>\n",
              "      <td>Direct</td>\n",
              "      <td>Direct</td>\n",
              "      <td>0</td>\n",
              "      <td>0</td>\n",
              "      <td>0</td>\n",
              "      <td>C</td>\n",
              "      <td>C</td>\n",
              "      <td>3</td>\n",
              "      <td>No Deposit</td>\n",
              "      <td>NaN</td>\n",
              "      <td>NaN</td>\n",
              "      <td>0</td>\n",
              "      <td>Transient</td>\n",
              "      <td>0.0</td>\n",
              "      <td>0</td>\n",
              "      <td>0</td>\n",
              "      <td>Check-Out</td>\n",
              "      <td>2015-07-01</td>\n",
              "    </tr>\n",
              "    <tr>\n",
              "      <th>1</th>\n",
              "      <td>Resort Hotel</td>\n",
              "      <td>0</td>\n",
              "      <td>737</td>\n",
              "      <td>2015</td>\n",
              "      <td>July</td>\n",
              "      <td>27</td>\n",
              "      <td>1</td>\n",
              "      <td>0</td>\n",
              "      <td>0</td>\n",
              "      <td>2</td>\n",
              "      <td>0.0</td>\n",
              "      <td>0</td>\n",
              "      <td>BB</td>\n",
              "      <td>PRT</td>\n",
              "      <td>Direct</td>\n",
              "      <td>Direct</td>\n",
              "      <td>0</td>\n",
              "      <td>0</td>\n",
              "      <td>0</td>\n",
              "      <td>C</td>\n",
              "      <td>C</td>\n",
              "      <td>4</td>\n",
              "      <td>No Deposit</td>\n",
              "      <td>NaN</td>\n",
              "      <td>NaN</td>\n",
              "      <td>0</td>\n",
              "      <td>Transient</td>\n",
              "      <td>0.0</td>\n",
              "      <td>0</td>\n",
              "      <td>0</td>\n",
              "      <td>Check-Out</td>\n",
              "      <td>2015-07-01</td>\n",
              "    </tr>\n",
              "    <tr>\n",
              "      <th>2</th>\n",
              "      <td>Resort Hotel</td>\n",
              "      <td>0</td>\n",
              "      <td>7</td>\n",
              "      <td>2015</td>\n",
              "      <td>July</td>\n",
              "      <td>27</td>\n",
              "      <td>1</td>\n",
              "      <td>0</td>\n",
              "      <td>1</td>\n",
              "      <td>1</td>\n",
              "      <td>0.0</td>\n",
              "      <td>0</td>\n",
              "      <td>BB</td>\n",
              "      <td>GBR</td>\n",
              "      <td>Direct</td>\n",
              "      <td>Direct</td>\n",
              "      <td>0</td>\n",
              "      <td>0</td>\n",
              "      <td>0</td>\n",
              "      <td>A</td>\n",
              "      <td>C</td>\n",
              "      <td>0</td>\n",
              "      <td>No Deposit</td>\n",
              "      <td>NaN</td>\n",
              "      <td>NaN</td>\n",
              "      <td>0</td>\n",
              "      <td>Transient</td>\n",
              "      <td>75.0</td>\n",
              "      <td>0</td>\n",
              "      <td>0</td>\n",
              "      <td>Check-Out</td>\n",
              "      <td>2015-07-02</td>\n",
              "    </tr>\n",
              "    <tr>\n",
              "      <th>3</th>\n",
              "      <td>Resort Hotel</td>\n",
              "      <td>0</td>\n",
              "      <td>13</td>\n",
              "      <td>2015</td>\n",
              "      <td>July</td>\n",
              "      <td>27</td>\n",
              "      <td>1</td>\n",
              "      <td>0</td>\n",
              "      <td>1</td>\n",
              "      <td>1</td>\n",
              "      <td>0.0</td>\n",
              "      <td>0</td>\n",
              "      <td>BB</td>\n",
              "      <td>GBR</td>\n",
              "      <td>Corporate</td>\n",
              "      <td>Corporate</td>\n",
              "      <td>0</td>\n",
              "      <td>0</td>\n",
              "      <td>0</td>\n",
              "      <td>A</td>\n",
              "      <td>A</td>\n",
              "      <td>0</td>\n",
              "      <td>No Deposit</td>\n",
              "      <td>304.0</td>\n",
              "      <td>NaN</td>\n",
              "      <td>0</td>\n",
              "      <td>Transient</td>\n",
              "      <td>75.0</td>\n",
              "      <td>0</td>\n",
              "      <td>0</td>\n",
              "      <td>Check-Out</td>\n",
              "      <td>2015-07-02</td>\n",
              "    </tr>\n",
              "    <tr>\n",
              "      <th>4</th>\n",
              "      <td>Resort Hotel</td>\n",
              "      <td>0</td>\n",
              "      <td>14</td>\n",
              "      <td>2015</td>\n",
              "      <td>July</td>\n",
              "      <td>27</td>\n",
              "      <td>1</td>\n",
              "      <td>0</td>\n",
              "      <td>2</td>\n",
              "      <td>2</td>\n",
              "      <td>0.0</td>\n",
              "      <td>0</td>\n",
              "      <td>BB</td>\n",
              "      <td>GBR</td>\n",
              "      <td>Online TA</td>\n",
              "      <td>TA/TO</td>\n",
              "      <td>0</td>\n",
              "      <td>0</td>\n",
              "      <td>0</td>\n",
              "      <td>A</td>\n",
              "      <td>A</td>\n",
              "      <td>0</td>\n",
              "      <td>No Deposit</td>\n",
              "      <td>240.0</td>\n",
              "      <td>NaN</td>\n",
              "      <td>0</td>\n",
              "      <td>Transient</td>\n",
              "      <td>98.0</td>\n",
              "      <td>0</td>\n",
              "      <td>1</td>\n",
              "      <td>Check-Out</td>\n",
              "      <td>2015-07-03</td>\n",
              "    </tr>\n",
              "  </tbody>\n",
              "</table>\n",
              "</div>"
            ],
            "text/plain": [
              "          hotel  is_canceled  ...  reservation_status  reservation_status_date\n",
              "0  Resort Hotel            0  ...           Check-Out               2015-07-01\n",
              "1  Resort Hotel            0  ...           Check-Out               2015-07-01\n",
              "2  Resort Hotel            0  ...           Check-Out               2015-07-02\n",
              "3  Resort Hotel            0  ...           Check-Out               2015-07-02\n",
              "4  Resort Hotel            0  ...           Check-Out               2015-07-03\n",
              "\n",
              "[5 rows x 32 columns]"
            ]
          },
          "metadata": {},
          "execution_count": 5
        }
      ]
    },
    {
      "cell_type": "code",
      "metadata": {
        "id": "LHFYVUi2MI1M"
      },
      "source": [
        "# Creating a copy of dataframe \n",
        "df = data.copy()"
      ],
      "execution_count": null,
      "outputs": []
    },
    {
      "cell_type": "markdown",
      "metadata": {
        "id": "RpOoOBshMv1B"
      },
      "source": [
        "## **Here we creating a copy of dataframe because whatever we applying a conditions on new data so that it doesn't affect our original dataset.**"
      ]
    },
    {
      "cell_type": "code",
      "metadata": {
        "colab": {
          "base_uri": "https://localhost:8080/"
        },
        "id": "AIzW9zj2MIxc",
        "outputId": "4fce16c5-600c-42e9-da54-a0b2844c63ec"
      },
      "source": [
        "#  Shape give the total number of rows and columns\n",
        "print('Rows {}  Columns {}'.format(data.shape[0], data.shape[1]))"
      ],
      "execution_count": null,
      "outputs": [
        {
          "output_type": "stream",
          "name": "stdout",
          "text": [
            "Rows 119390  Columns 32\n"
          ]
        }
      ]
    },
    {
      "cell_type": "code",
      "metadata": {
        "colab": {
          "base_uri": "https://localhost:8080/",
          "height": 422
        },
        "id": "PFKXFYqIMIsJ",
        "outputId": "d69ba247-82e3-4f85-9455-f7788bcc645e"
      },
      "source": [
        "# describe() gives the overall descriptive summary of the dataframe\n",
        "df.describe(include= 'all')"
      ],
      "execution_count": null,
      "outputs": [
        {
          "output_type": "execute_result",
          "data": {
            "text/html": [
              "<div>\n",
              "<style scoped>\n",
              "    .dataframe tbody tr th:only-of-type {\n",
              "        vertical-align: middle;\n",
              "    }\n",
              "\n",
              "    .dataframe tbody tr th {\n",
              "        vertical-align: top;\n",
              "    }\n",
              "\n",
              "    .dataframe thead th {\n",
              "        text-align: right;\n",
              "    }\n",
              "</style>\n",
              "<table border=\"1\" class=\"dataframe\">\n",
              "  <thead>\n",
              "    <tr style=\"text-align: right;\">\n",
              "      <th></th>\n",
              "      <th>hotel</th>\n",
              "      <th>is_canceled</th>\n",
              "      <th>lead_time</th>\n",
              "      <th>arrival_date_year</th>\n",
              "      <th>arrival_date_month</th>\n",
              "      <th>arrival_date_week_number</th>\n",
              "      <th>arrival_date_day_of_month</th>\n",
              "      <th>stays_in_weekend_nights</th>\n",
              "      <th>stays_in_week_nights</th>\n",
              "      <th>adults</th>\n",
              "      <th>children</th>\n",
              "      <th>babies</th>\n",
              "      <th>meal</th>\n",
              "      <th>country</th>\n",
              "      <th>market_segment</th>\n",
              "      <th>distribution_channel</th>\n",
              "      <th>is_repeated_guest</th>\n",
              "      <th>previous_cancellations</th>\n",
              "      <th>previous_bookings_not_canceled</th>\n",
              "      <th>reserved_room_type</th>\n",
              "      <th>assigned_room_type</th>\n",
              "      <th>booking_changes</th>\n",
              "      <th>deposit_type</th>\n",
              "      <th>agent</th>\n",
              "      <th>company</th>\n",
              "      <th>days_in_waiting_list</th>\n",
              "      <th>customer_type</th>\n",
              "      <th>adr</th>\n",
              "      <th>required_car_parking_spaces</th>\n",
              "      <th>total_of_special_requests</th>\n",
              "      <th>reservation_status</th>\n",
              "      <th>reservation_status_date</th>\n",
              "    </tr>\n",
              "  </thead>\n",
              "  <tbody>\n",
              "    <tr>\n",
              "      <th>count</th>\n",
              "      <td>119390</td>\n",
              "      <td>119390.000000</td>\n",
              "      <td>119390.000000</td>\n",
              "      <td>119390.000000</td>\n",
              "      <td>119390</td>\n",
              "      <td>119390.000000</td>\n",
              "      <td>119390.000000</td>\n",
              "      <td>119390.000000</td>\n",
              "      <td>119390.000000</td>\n",
              "      <td>119390.000000</td>\n",
              "      <td>119386.000000</td>\n",
              "      <td>119390.000000</td>\n",
              "      <td>119390</td>\n",
              "      <td>118902</td>\n",
              "      <td>119390</td>\n",
              "      <td>119390</td>\n",
              "      <td>119390.000000</td>\n",
              "      <td>119390.000000</td>\n",
              "      <td>119390.000000</td>\n",
              "      <td>119390</td>\n",
              "      <td>119390</td>\n",
              "      <td>119390.000000</td>\n",
              "      <td>119390</td>\n",
              "      <td>103050.000000</td>\n",
              "      <td>6797.000000</td>\n",
              "      <td>119390.000000</td>\n",
              "      <td>119390</td>\n",
              "      <td>119390.000000</td>\n",
              "      <td>119390.000000</td>\n",
              "      <td>119390.000000</td>\n",
              "      <td>119390</td>\n",
              "      <td>119390</td>\n",
              "    </tr>\n",
              "    <tr>\n",
              "      <th>unique</th>\n",
              "      <td>2</td>\n",
              "      <td>NaN</td>\n",
              "      <td>NaN</td>\n",
              "      <td>NaN</td>\n",
              "      <td>12</td>\n",
              "      <td>NaN</td>\n",
              "      <td>NaN</td>\n",
              "      <td>NaN</td>\n",
              "      <td>NaN</td>\n",
              "      <td>NaN</td>\n",
              "      <td>NaN</td>\n",
              "      <td>NaN</td>\n",
              "      <td>5</td>\n",
              "      <td>177</td>\n",
              "      <td>8</td>\n",
              "      <td>5</td>\n",
              "      <td>NaN</td>\n",
              "      <td>NaN</td>\n",
              "      <td>NaN</td>\n",
              "      <td>10</td>\n",
              "      <td>12</td>\n",
              "      <td>NaN</td>\n",
              "      <td>3</td>\n",
              "      <td>NaN</td>\n",
              "      <td>NaN</td>\n",
              "      <td>NaN</td>\n",
              "      <td>4</td>\n",
              "      <td>NaN</td>\n",
              "      <td>NaN</td>\n",
              "      <td>NaN</td>\n",
              "      <td>3</td>\n",
              "      <td>926</td>\n",
              "    </tr>\n",
              "    <tr>\n",
              "      <th>top</th>\n",
              "      <td>City Hotel</td>\n",
              "      <td>NaN</td>\n",
              "      <td>NaN</td>\n",
              "      <td>NaN</td>\n",
              "      <td>August</td>\n",
              "      <td>NaN</td>\n",
              "      <td>NaN</td>\n",
              "      <td>NaN</td>\n",
              "      <td>NaN</td>\n",
              "      <td>NaN</td>\n",
              "      <td>NaN</td>\n",
              "      <td>NaN</td>\n",
              "      <td>BB</td>\n",
              "      <td>PRT</td>\n",
              "      <td>Online TA</td>\n",
              "      <td>TA/TO</td>\n",
              "      <td>NaN</td>\n",
              "      <td>NaN</td>\n",
              "      <td>NaN</td>\n",
              "      <td>A</td>\n",
              "      <td>A</td>\n",
              "      <td>NaN</td>\n",
              "      <td>No Deposit</td>\n",
              "      <td>NaN</td>\n",
              "      <td>NaN</td>\n",
              "      <td>NaN</td>\n",
              "      <td>Transient</td>\n",
              "      <td>NaN</td>\n",
              "      <td>NaN</td>\n",
              "      <td>NaN</td>\n",
              "      <td>Check-Out</td>\n",
              "      <td>2015-10-21</td>\n",
              "    </tr>\n",
              "    <tr>\n",
              "      <th>freq</th>\n",
              "      <td>79330</td>\n",
              "      <td>NaN</td>\n",
              "      <td>NaN</td>\n",
              "      <td>NaN</td>\n",
              "      <td>13877</td>\n",
              "      <td>NaN</td>\n",
              "      <td>NaN</td>\n",
              "      <td>NaN</td>\n",
              "      <td>NaN</td>\n",
              "      <td>NaN</td>\n",
              "      <td>NaN</td>\n",
              "      <td>NaN</td>\n",
              "      <td>92310</td>\n",
              "      <td>48590</td>\n",
              "      <td>56477</td>\n",
              "      <td>97870</td>\n",
              "      <td>NaN</td>\n",
              "      <td>NaN</td>\n",
              "      <td>NaN</td>\n",
              "      <td>85994</td>\n",
              "      <td>74053</td>\n",
              "      <td>NaN</td>\n",
              "      <td>104641</td>\n",
              "      <td>NaN</td>\n",
              "      <td>NaN</td>\n",
              "      <td>NaN</td>\n",
              "      <td>89613</td>\n",
              "      <td>NaN</td>\n",
              "      <td>NaN</td>\n",
              "      <td>NaN</td>\n",
              "      <td>75166</td>\n",
              "      <td>1461</td>\n",
              "    </tr>\n",
              "    <tr>\n",
              "      <th>mean</th>\n",
              "      <td>NaN</td>\n",
              "      <td>0.370416</td>\n",
              "      <td>104.011416</td>\n",
              "      <td>2016.156554</td>\n",
              "      <td>NaN</td>\n",
              "      <td>27.165173</td>\n",
              "      <td>15.798241</td>\n",
              "      <td>0.927599</td>\n",
              "      <td>2.500302</td>\n",
              "      <td>1.856403</td>\n",
              "      <td>0.103890</td>\n",
              "      <td>0.007949</td>\n",
              "      <td>NaN</td>\n",
              "      <td>NaN</td>\n",
              "      <td>NaN</td>\n",
              "      <td>NaN</td>\n",
              "      <td>0.031912</td>\n",
              "      <td>0.087118</td>\n",
              "      <td>0.137097</td>\n",
              "      <td>NaN</td>\n",
              "      <td>NaN</td>\n",
              "      <td>0.221124</td>\n",
              "      <td>NaN</td>\n",
              "      <td>86.693382</td>\n",
              "      <td>189.266735</td>\n",
              "      <td>2.321149</td>\n",
              "      <td>NaN</td>\n",
              "      <td>101.831122</td>\n",
              "      <td>0.062518</td>\n",
              "      <td>0.571363</td>\n",
              "      <td>NaN</td>\n",
              "      <td>NaN</td>\n",
              "    </tr>\n",
              "    <tr>\n",
              "      <th>std</th>\n",
              "      <td>NaN</td>\n",
              "      <td>0.482918</td>\n",
              "      <td>106.863097</td>\n",
              "      <td>0.707476</td>\n",
              "      <td>NaN</td>\n",
              "      <td>13.605138</td>\n",
              "      <td>8.780829</td>\n",
              "      <td>0.998613</td>\n",
              "      <td>1.908286</td>\n",
              "      <td>0.579261</td>\n",
              "      <td>0.398561</td>\n",
              "      <td>0.097436</td>\n",
              "      <td>NaN</td>\n",
              "      <td>NaN</td>\n",
              "      <td>NaN</td>\n",
              "      <td>NaN</td>\n",
              "      <td>0.175767</td>\n",
              "      <td>0.844336</td>\n",
              "      <td>1.497437</td>\n",
              "      <td>NaN</td>\n",
              "      <td>NaN</td>\n",
              "      <td>0.652306</td>\n",
              "      <td>NaN</td>\n",
              "      <td>110.774548</td>\n",
              "      <td>131.655015</td>\n",
              "      <td>17.594721</td>\n",
              "      <td>NaN</td>\n",
              "      <td>50.535790</td>\n",
              "      <td>0.245291</td>\n",
              "      <td>0.792798</td>\n",
              "      <td>NaN</td>\n",
              "      <td>NaN</td>\n",
              "    </tr>\n",
              "    <tr>\n",
              "      <th>min</th>\n",
              "      <td>NaN</td>\n",
              "      <td>0.000000</td>\n",
              "      <td>0.000000</td>\n",
              "      <td>2015.000000</td>\n",
              "      <td>NaN</td>\n",
              "      <td>1.000000</td>\n",
              "      <td>1.000000</td>\n",
              "      <td>0.000000</td>\n",
              "      <td>0.000000</td>\n",
              "      <td>0.000000</td>\n",
              "      <td>0.000000</td>\n",
              "      <td>0.000000</td>\n",
              "      <td>NaN</td>\n",
              "      <td>NaN</td>\n",
              "      <td>NaN</td>\n",
              "      <td>NaN</td>\n",
              "      <td>0.000000</td>\n",
              "      <td>0.000000</td>\n",
              "      <td>0.000000</td>\n",
              "      <td>NaN</td>\n",
              "      <td>NaN</td>\n",
              "      <td>0.000000</td>\n",
              "      <td>NaN</td>\n",
              "      <td>1.000000</td>\n",
              "      <td>6.000000</td>\n",
              "      <td>0.000000</td>\n",
              "      <td>NaN</td>\n",
              "      <td>-6.380000</td>\n",
              "      <td>0.000000</td>\n",
              "      <td>0.000000</td>\n",
              "      <td>NaN</td>\n",
              "      <td>NaN</td>\n",
              "    </tr>\n",
              "    <tr>\n",
              "      <th>25%</th>\n",
              "      <td>NaN</td>\n",
              "      <td>0.000000</td>\n",
              "      <td>18.000000</td>\n",
              "      <td>2016.000000</td>\n",
              "      <td>NaN</td>\n",
              "      <td>16.000000</td>\n",
              "      <td>8.000000</td>\n",
              "      <td>0.000000</td>\n",
              "      <td>1.000000</td>\n",
              "      <td>2.000000</td>\n",
              "      <td>0.000000</td>\n",
              "      <td>0.000000</td>\n",
              "      <td>NaN</td>\n",
              "      <td>NaN</td>\n",
              "      <td>NaN</td>\n",
              "      <td>NaN</td>\n",
              "      <td>0.000000</td>\n",
              "      <td>0.000000</td>\n",
              "      <td>0.000000</td>\n",
              "      <td>NaN</td>\n",
              "      <td>NaN</td>\n",
              "      <td>0.000000</td>\n",
              "      <td>NaN</td>\n",
              "      <td>9.000000</td>\n",
              "      <td>62.000000</td>\n",
              "      <td>0.000000</td>\n",
              "      <td>NaN</td>\n",
              "      <td>69.290000</td>\n",
              "      <td>0.000000</td>\n",
              "      <td>0.000000</td>\n",
              "      <td>NaN</td>\n",
              "      <td>NaN</td>\n",
              "    </tr>\n",
              "    <tr>\n",
              "      <th>50%</th>\n",
              "      <td>NaN</td>\n",
              "      <td>0.000000</td>\n",
              "      <td>69.000000</td>\n",
              "      <td>2016.000000</td>\n",
              "      <td>NaN</td>\n",
              "      <td>28.000000</td>\n",
              "      <td>16.000000</td>\n",
              "      <td>1.000000</td>\n",
              "      <td>2.000000</td>\n",
              "      <td>2.000000</td>\n",
              "      <td>0.000000</td>\n",
              "      <td>0.000000</td>\n",
              "      <td>NaN</td>\n",
              "      <td>NaN</td>\n",
              "      <td>NaN</td>\n",
              "      <td>NaN</td>\n",
              "      <td>0.000000</td>\n",
              "      <td>0.000000</td>\n",
              "      <td>0.000000</td>\n",
              "      <td>NaN</td>\n",
              "      <td>NaN</td>\n",
              "      <td>0.000000</td>\n",
              "      <td>NaN</td>\n",
              "      <td>14.000000</td>\n",
              "      <td>179.000000</td>\n",
              "      <td>0.000000</td>\n",
              "      <td>NaN</td>\n",
              "      <td>94.575000</td>\n",
              "      <td>0.000000</td>\n",
              "      <td>0.000000</td>\n",
              "      <td>NaN</td>\n",
              "      <td>NaN</td>\n",
              "    </tr>\n",
              "    <tr>\n",
              "      <th>75%</th>\n",
              "      <td>NaN</td>\n",
              "      <td>1.000000</td>\n",
              "      <td>160.000000</td>\n",
              "      <td>2017.000000</td>\n",
              "      <td>NaN</td>\n",
              "      <td>38.000000</td>\n",
              "      <td>23.000000</td>\n",
              "      <td>2.000000</td>\n",
              "      <td>3.000000</td>\n",
              "      <td>2.000000</td>\n",
              "      <td>0.000000</td>\n",
              "      <td>0.000000</td>\n",
              "      <td>NaN</td>\n",
              "      <td>NaN</td>\n",
              "      <td>NaN</td>\n",
              "      <td>NaN</td>\n",
              "      <td>0.000000</td>\n",
              "      <td>0.000000</td>\n",
              "      <td>0.000000</td>\n",
              "      <td>NaN</td>\n",
              "      <td>NaN</td>\n",
              "      <td>0.000000</td>\n",
              "      <td>NaN</td>\n",
              "      <td>229.000000</td>\n",
              "      <td>270.000000</td>\n",
              "      <td>0.000000</td>\n",
              "      <td>NaN</td>\n",
              "      <td>126.000000</td>\n",
              "      <td>0.000000</td>\n",
              "      <td>1.000000</td>\n",
              "      <td>NaN</td>\n",
              "      <td>NaN</td>\n",
              "    </tr>\n",
              "    <tr>\n",
              "      <th>max</th>\n",
              "      <td>NaN</td>\n",
              "      <td>1.000000</td>\n",
              "      <td>737.000000</td>\n",
              "      <td>2017.000000</td>\n",
              "      <td>NaN</td>\n",
              "      <td>53.000000</td>\n",
              "      <td>31.000000</td>\n",
              "      <td>19.000000</td>\n",
              "      <td>50.000000</td>\n",
              "      <td>55.000000</td>\n",
              "      <td>10.000000</td>\n",
              "      <td>10.000000</td>\n",
              "      <td>NaN</td>\n",
              "      <td>NaN</td>\n",
              "      <td>NaN</td>\n",
              "      <td>NaN</td>\n",
              "      <td>1.000000</td>\n",
              "      <td>26.000000</td>\n",
              "      <td>72.000000</td>\n",
              "      <td>NaN</td>\n",
              "      <td>NaN</td>\n",
              "      <td>21.000000</td>\n",
              "      <td>NaN</td>\n",
              "      <td>535.000000</td>\n",
              "      <td>543.000000</td>\n",
              "      <td>391.000000</td>\n",
              "      <td>NaN</td>\n",
              "      <td>5400.000000</td>\n",
              "      <td>8.000000</td>\n",
              "      <td>5.000000</td>\n",
              "      <td>NaN</td>\n",
              "      <td>NaN</td>\n",
              "    </tr>\n",
              "  </tbody>\n",
              "</table>\n",
              "</div>"
            ],
            "text/plain": [
              "             hotel    is_canceled  ...  reservation_status  reservation_status_date\n",
              "count       119390  119390.000000  ...              119390                   119390\n",
              "unique           2            NaN  ...                   3                      926\n",
              "top     City Hotel            NaN  ...           Check-Out               2015-10-21\n",
              "freq         79330            NaN  ...               75166                     1461\n",
              "mean           NaN       0.370416  ...                 NaN                      NaN\n",
              "std            NaN       0.482918  ...                 NaN                      NaN\n",
              "min            NaN       0.000000  ...                 NaN                      NaN\n",
              "25%            NaN       0.000000  ...                 NaN                      NaN\n",
              "50%            NaN       0.000000  ...                 NaN                      NaN\n",
              "75%            NaN       1.000000  ...                 NaN                      NaN\n",
              "max            NaN       1.000000  ...                 NaN                      NaN\n",
              "\n",
              "[11 rows x 32 columns]"
            ]
          },
          "metadata": {},
          "execution_count": 8
        }
      ]
    },
    {
      "cell_type": "code",
      "metadata": {
        "colab": {
          "base_uri": "https://localhost:8080/"
        },
        "id": "mRVQb5OcMIm3",
        "outputId": "b0043562-1ce9-42e3-d2fe-0cdff1cea65d"
      },
      "source": [
        "#info() print the basic information of our DataFrame\n",
        "df.info()"
      ],
      "execution_count": null,
      "outputs": [
        {
          "output_type": "stream",
          "name": "stdout",
          "text": [
            "<class 'pandas.core.frame.DataFrame'>\n",
            "RangeIndex: 119390 entries, 0 to 119389\n",
            "Data columns (total 32 columns):\n",
            " #   Column                          Non-Null Count   Dtype  \n",
            "---  ------                          --------------   -----  \n",
            " 0   hotel                           119390 non-null  object \n",
            " 1   is_canceled                     119390 non-null  int64  \n",
            " 2   lead_time                       119390 non-null  int64  \n",
            " 3   arrival_date_year               119390 non-null  int64  \n",
            " 4   arrival_date_month              119390 non-null  object \n",
            " 5   arrival_date_week_number        119390 non-null  int64  \n",
            " 6   arrival_date_day_of_month       119390 non-null  int64  \n",
            " 7   stays_in_weekend_nights         119390 non-null  int64  \n",
            " 8   stays_in_week_nights            119390 non-null  int64  \n",
            " 9   adults                          119390 non-null  int64  \n",
            " 10  children                        119386 non-null  float64\n",
            " 11  babies                          119390 non-null  int64  \n",
            " 12  meal                            119390 non-null  object \n",
            " 13  country                         118902 non-null  object \n",
            " 14  market_segment                  119390 non-null  object \n",
            " 15  distribution_channel            119390 non-null  object \n",
            " 16  is_repeated_guest               119390 non-null  int64  \n",
            " 17  previous_cancellations          119390 non-null  int64  \n",
            " 18  previous_bookings_not_canceled  119390 non-null  int64  \n",
            " 19  reserved_room_type              119390 non-null  object \n",
            " 20  assigned_room_type              119390 non-null  object \n",
            " 21  booking_changes                 119390 non-null  int64  \n",
            " 22  deposit_type                    119390 non-null  object \n",
            " 23  agent                           103050 non-null  float64\n",
            " 24  company                         6797 non-null    float64\n",
            " 25  days_in_waiting_list            119390 non-null  int64  \n",
            " 26  customer_type                   119390 non-null  object \n",
            " 27  adr                             119390 non-null  float64\n",
            " 28  required_car_parking_spaces     119390 non-null  int64  \n",
            " 29  total_of_special_requests       119390 non-null  int64  \n",
            " 30  reservation_status              119390 non-null  object \n",
            " 31  reservation_status_date         119390 non-null  object \n",
            "dtypes: float64(4), int64(16), object(12)\n",
            "memory usage: 29.1+ MB\n"
          ]
        }
      ]
    },
    {
      "cell_type": "code",
      "metadata": {
        "colab": {
          "base_uri": "https://localhost:8080/"
        },
        "id": "iCj4stsqMIh3",
        "outputId": "82589a80-3bb6-4f46-9042-0accdc5bbc43"
      },
      "source": [
        "# lets check the total null values in our dataset.\n",
        "# .sort_values sorting the dataset in ascending order and if you want to make it reverse just write False in bracket.\n",
        "df.isna().sum().sort_values(ascending = False) "
      ],
      "execution_count": null,
      "outputs": [
        {
          "output_type": "execute_result",
          "data": {
            "text/plain": [
              "company                           112593\n",
              "agent                              16340\n",
              "country                              488\n",
              "children                               4\n",
              "lead_time                              0\n",
              "arrival_date_year                      0\n",
              "arrival_date_month                     0\n",
              "arrival_date_week_number               0\n",
              "is_canceled                            0\n",
              "market_segment                         0\n",
              "arrival_date_day_of_month              0\n",
              "stays_in_weekend_nights                0\n",
              "stays_in_week_nights                   0\n",
              "adults                                 0\n",
              "babies                                 0\n",
              "meal                                   0\n",
              "reservation_status_date                0\n",
              "distribution_channel                   0\n",
              "reservation_status                     0\n",
              "is_repeated_guest                      0\n",
              "previous_cancellations                 0\n",
              "previous_bookings_not_canceled         0\n",
              "reserved_room_type                     0\n",
              "assigned_room_type                     0\n",
              "booking_changes                        0\n",
              "deposit_type                           0\n",
              "days_in_waiting_list                   0\n",
              "customer_type                          0\n",
              "adr                                    0\n",
              "required_car_parking_spaces            0\n",
              "total_of_special_requests              0\n",
              "hotel                                  0\n",
              "dtype: int64"
            ]
          },
          "metadata": {},
          "execution_count": 10
        }
      ]
    },
    {
      "cell_type": "code",
      "metadata": {
        "id": "jC0S3VUfNA2O"
      },
      "source": [
        "# Since 'agent' and 'company' contain maximum number of null values so dropping these columns won't affect our data.\n",
        "df = df.drop(['agent','company'],axis =1)"
      ],
      "execution_count": null,
      "outputs": []
    },
    {
      "cell_type": "code",
      "metadata": {
        "colab": {
          "base_uri": "https://localhost:8080/"
        },
        "id": "bc_REpeYNAwt",
        "outputId": "b9cd18cd-2670-4068-cd8b-447be6c33b13"
      },
      "source": [
        "# first we have 32 columns and now by removing 2 columns we see that there are total 30 columnns in dataset\n",
        "df.shape"
      ],
      "execution_count": null,
      "outputs": [
        {
          "output_type": "execute_result",
          "data": {
            "text/plain": [
              "(119390, 30)"
            ]
          },
          "metadata": {},
          "execution_count": 12
        }
      ]
    },
    {
      "cell_type": "markdown",
      "metadata": {
        "id": "ZSUtkS-4NJsX"
      },
      "source": [
        "### **Aslo we see that there are some null values in our dataset so we have to drop those null values so that our data become more proper.**"
      ]
    },
    {
      "cell_type": "code",
      "metadata": {
        "colab": {
          "base_uri": "https://localhost:8080/"
        },
        "id": "o1--9SieNAm5",
        "outputId": "dd281e1e-dafb-4657-8a67-2a093055658e"
      },
      "source": [
        "# Checking the totol number of duplicate values in our data \n",
        "len(df[df.duplicated()])\n",
        "# df[df.duplicated()].shape"
      ],
      "execution_count": null,
      "outputs": [
        {
          "output_type": "execute_result",
          "data": {
            "text/plain": [
              "31984"
            ]
          },
          "metadata": {},
          "execution_count": 14
        }
      ]
    },
    {
      "cell_type": "code",
      "metadata": {
        "id": "eDhXZ0bkNAth"
      },
      "source": [
        "# dropping all the missing values of our dataset \n",
        "df = df.dropna()"
      ],
      "execution_count": null,
      "outputs": []
    },
    {
      "cell_type": "code",
      "metadata": {
        "colab": {
          "base_uri": "https://localhost:8080/"
        },
        "id": "lEvb89DMNAf1",
        "outputId": "9a1ecf77-27f1-40c2-fb06-eac16a2dab8d"
      },
      "source": [
        "# Dropping the duplicate values\n",
        "df = df.drop_duplicates()\n",
        "df.shape"
      ],
      "execution_count": null,
      "outputs": [
        {
          "output_type": "execute_result",
          "data": {
            "text/plain": [
              "(86914, 30)"
            ]
          },
          "metadata": {},
          "execution_count": 15
        }
      ]
    },
    {
      "cell_type": "code",
      "metadata": {
        "colab": {
          "base_uri": "https://localhost:8080/"
        },
        "id": "qrdyTYvvNAcU",
        "outputId": "ebe17e34-3794-4c5d-fe06-b46010967a22"
      },
      "source": [
        "# Checking every column has similar rows by using count() function\n",
        "df.count()"
      ],
      "execution_count": null,
      "outputs": [
        {
          "output_type": "execute_result",
          "data": {
            "text/plain": [
              "hotel                             86914\n",
              "is_canceled                       86914\n",
              "lead_time                         86914\n",
              "arrival_date_year                 86914\n",
              "arrival_date_month                86914\n",
              "arrival_date_week_number          86914\n",
              "arrival_date_day_of_month         86914\n",
              "stays_in_weekend_nights           86914\n",
              "stays_in_week_nights              86914\n",
              "adults                            86914\n",
              "children                          86914\n",
              "babies                            86914\n",
              "meal                              86914\n",
              "country                           86914\n",
              "market_segment                    86914\n",
              "distribution_channel              86914\n",
              "is_repeated_guest                 86914\n",
              "previous_cancellations            86914\n",
              "previous_bookings_not_canceled    86914\n",
              "reserved_room_type                86914\n",
              "assigned_room_type                86914\n",
              "booking_changes                   86914\n",
              "deposit_type                      86914\n",
              "days_in_waiting_list              86914\n",
              "customer_type                     86914\n",
              "adr                               86914\n",
              "required_car_parking_spaces       86914\n",
              "total_of_special_requests         86914\n",
              "reservation_status                86914\n",
              "reservation_status_date           86914\n",
              "dtype: int64"
            ]
          },
          "metadata": {},
          "execution_count": 16
        }
      ]
    },
    {
      "cell_type": "markdown",
      "metadata": {
        "id": "83aX9py7NZd5"
      },
      "source": [
        "### **After dropping column, dropping the missing values and drop duplicates we can see that every column has same number of rows and there is no null values in our dataset.**"
      ]
    },
    {
      "cell_type": "markdown",
      "metadata": {
        "id": "sxfiTpTLNejr"
      },
      "source": [
        "## Data Visualization with respect to Hotel Booking Analysis.\n",
        "###**Q1. What are the types of hotel? What type of Hotels does a customer book in general?**\n",
        "\n",
        "###**Q2. Which is the busiest month of the Hotel ?**\n",
        "\n",
        "###**Q3. Countries with Highest bookings**\n",
        "\n",
        "###**Q4. How cancellations vary according to month and which type of hotel has highest number of cancellation?**\n",
        "\n",
        "###**Q5. Which meals were customer prefer the most?**\n",
        "\n",
        "###**Q6. Relation between repeated customer and cancellation.**\n",
        "\n",
        "###**Q7. Whether the guest stay in over a weekend or weekday.**\n",
        "\n",
        "###**Q8. Bookings by market segment and distribution channel.**\n",
        "\n",
        "###**Q9. Exploring Number of Special Requests.**"
      ]
    },
    {
      "cell_type": "code",
      "metadata": {
        "colab": {
          "base_uri": "https://localhost:8080/",
          "height": 527
        },
        "id": "fDaYKm0DNAYx",
        "outputId": "529a1e39-6be1-46ad-daf4-f5f7ad5b93f5"
      },
      "source": [
        "# plotting boxplot \n",
        "plt.figure(figsize=(12, 6))\n",
        "df.boxplot()\n",
        "plt.xticks(rotation = 90)   # by using xticks we rotate our column labels to 90 degree.\n",
        "plt.show()"
      ],
      "execution_count": null,
      "outputs": [
        {
          "output_type": "display_data",
          "data": {
            "image/png": "[encoded data removed]",
            "text/plain": [
              "<Figure size 864x432 with 1 Axes>"
            ]
          },
          "metadata": {
            "needs_background": "light"
          }
        }
      ]
    },
    {
      "cell_type": "markdown",
      "metadata": {
        "id": "LCuYkcIXNmYz"
      },
      "source": [
        "### **We use boxplot to understand how many outliers are there in our data and we see that there are lots of outliers even the boxplot is not clear.**"
      ]
    },
    {
      "cell_type": "code",
      "metadata": {
        "colab": {
          "base_uri": "https://localhost:8080/",
          "height": 732
        },
        "id": "0VYGoOUSNAVG",
        "outputId": "6399d8d2-ff25-4c87-9e39-26b422941014"
      },
      "source": [
        "# plotting boxplot to find outliers for some columns\n",
        "# plot for lead_time variable\n",
        "fig = plt.figure(figsize=(12, 6))\n",
        "ax = fig.gca()\n",
        "df.boxplot(column = ['lead_time'], color=\"red\", ax = ax)\n",
        "plt.show()\n",
        "\n",
        "\n",
        "# plot for adr variable\n",
        "fig = plt.figure(figsize=(12, 6))\n",
        "ax = fig.gca()\n",
        "df.boxplot(column = ['adr'], color=\"purple\", ax = ax)\n",
        "plt.show()"
      ],
      "execution_count": null,
      "outputs": [
        {
          "output_type": "display_data",
          "data": {
            "image/png": "[encoded data removed]",
            "text/plain": [
              "<Figure size 864x432 with 1 Axes>"
            ]
          },
          "metadata": {
            "needs_background": "light"
          }
        },
        {
          "output_type": "display_data",
          "data": {
            "image/png": "[encoded data removed]",
            "text/plain": [
              "<Figure size 864x432 with 1 Axes>"
            ]
          },
          "metadata": {
            "needs_background": "light"
          }
        }
      ]
    },
    {
      "cell_type": "markdown",
      "metadata": {
        "id": "62CNuJQoNsw3"
      },
      "source": [
        "### **We now individually potting the boxplot for some column to see that how many outliers are there in the dataset.**\n",
        "\n",
        "* In lead_time there are so many outliers and,\n",
        "* In adr column this seems to have few outliers in the data."
      ]
    },
    {
      "cell_type": "markdown",
      "metadata": {
        "id": "iMZHVBpNNwoA"
      },
      "source": [
        "### **in order to drop the outliers here we using IQR to finding out how many outliers are there to drop them.**"
      ]
    },
    {
      "cell_type": "code",
      "metadata": {
        "colab": {
          "base_uri": "https://localhost:8080/"
        },
        "id": "yRby82ERNAQ-",
        "outputId": "2f3d041f-cc3c-47f5-8389-299c371bd591"
      },
      "source": [
        "#Dropping outliers\n",
        "Q1 = df.quantile(0.25)\n",
        "Q3 = df.quantile(0.75)\n",
        "IQR = Q3 - Q1\n",
        "print('International Quartile Range =\\n',IQR)\n",
        "\n",
        "#Dropping Outliers for specific columns\n",
        "dror_outlier = ['lead_time','adr']\n",
        "df = df[~((df[dror_outlier] < (Q1 - 1.5*IQR)) | (df[dror_outlier] > (Q3 + 1.5*IQR))).any(axis=1)]"
      ],
      "execution_count": null,
      "outputs": [
        {
          "output_type": "stream",
          "name": "stdout",
          "text": [
            "International Quartile Range =\n",
            " is_canceled                         1.00\n",
            "lead_time                         113.00\n",
            "arrival_date_year                   1.00\n",
            "arrival_date_week_number           21.00\n",
            "arrival_date_day_of_month          15.00\n",
            "stays_in_weekend_nights             2.00\n",
            "stays_in_week_nights                3.00\n",
            "adults                              0.00\n",
            "children                            0.00\n",
            "babies                              0.00\n",
            "is_repeated_guest                   0.00\n",
            "previous_cancellations              0.00\n",
            "previous_bookings_not_canceled      0.00\n",
            "booking_changes                     0.00\n",
            "days_in_waiting_list                0.00\n",
            "adr                                61.85\n",
            "required_car_parking_spaces         0.00\n",
            "total_of_special_requests           1.00\n",
            "dtype: float64\n"
          ]
        }
      ]
    },
    {
      "cell_type": "markdown",
      "metadata": {
        "id": "a1Pwt0XZO1Gb"
      },
      "source": [
        "##**PROBLEM STATEMENT :**\n",
        "## Q1. What are the types of hotel?  What type of Hotels does a customer book in general?"
      ]
    },
    {
      "cell_type": "code",
      "metadata": {
        "colab": {
          "base_uri": "https://localhost:8080/",
          "height": 566
        },
        "id": "eJi4DpxiNALQ",
        "outputId": "d572c35f-28f0-47bc-c1ae-c90327a8a25c"
      },
      "source": [
        "# get types of hotel\n",
        "types_of_hotel = df.hotel.unique()\n",
        "print(f\"Types of hotel are {types_of_hotel}.\")\n",
        "\n",
        "hotel_list = df['hotel'].value_counts()           # gives total value of City hotel and Resort Hotel\n",
        "hotel_count = df['hotel'].value_counts().index     # gives the values index of the hotel\n",
        "\n",
        "print(hotel_list)     \n",
        "print(hotel_count)  \n",
        "\n",
        "# setting the size of graph  \n",
        "plt.figure(figsize = (8,5))\n",
        "\n",
        "# creating the bar graph\n",
        "fig, ax = plt.subplots(figsize = (9,7))\n",
        "plt.bar(hotel_count, hotel_list, color ='aliceblue', width = 0.5, edgecolor = 'mediumblue',lw =3)\n",
        "plt.title('Total Number of Bookings for Each Hotel', size =15)\n",
        "plt.xlabel('Hotel Type')\n",
        "plt.ylabel('Reservation Count')\n",
        "for p in ax.patches:                               # This step is used for showing the percentage on the graph\n",
        "    height = p.get_height()\n",
        "    ax.text(p.get_x()+p.get_width()/2, height+500, '{:1.2f}''%'.format(height/df.shape[0]*100),ha = \"center\")"
      ],
      "execution_count": null,
      "outputs": [
        {
          "output_type": "stream",
          "name": "stdout",
          "text": [
            "Types of hotel are ['Resort Hotel' 'City Hotel'].\n",
            "City Hotel      51386\n",
            "Resort Hotel    30593\n",
            "Name: hotel, dtype: int64\n",
            "Index(['City Hotel', 'Resort Hotel'], dtype='object')\n"
          ]
        },
        {
          "output_type": "display_data",
          "data": {
            "text/plain": [
              "<Figure size 576x360 with 0 Axes>"
            ]
          },
          "metadata": {}
        },
        {
          "output_type": "display_data",
          "data": {
            "image/png": "[encoded data removed]",
            "text/plain": [
              "<Figure size 648x504 with 1 Axes>"
            ]
          },
          "metadata": {
            "needs_background": "light"
          }
        }
      ]
    },
    {
      "cell_type": "markdown",
      "metadata": {
        "id": "5zoDG4tgO-Te"
      },
      "source": [
        "# conclusion\n",
        "**From above graph there are 2 types of Hotel** \n",
        "\n",
        "**1. City Hotel having count approx 51000 and,**\n",
        "\n",
        "**2. Resort Hotel having count 30000 approx respectively.**\n",
        "\n",
        "**3. The above graph says that approximately 37% of the reservations were booked for Resort hotel and 63% were booked for City Hotel.**\n",
        "\n",
        "**4. It means that people mostly refer City Hotel as compared to Resort Hotel.**"
      ]
    },
    {
      "cell_type": "markdown",
      "metadata": {
        "id": "MuBbJXcNPC9V"
      },
      "source": [
        "## Q2. Which is the busiest month of the Hotel ? "
      ]
    },
    {
      "cell_type": "code",
      "metadata": {
        "colab": {
          "base_uri": "https://localhost:8080/",
          "height": 848
        },
        "id": "FR6F_qgFNAGT",
        "outputId": "db995bd0-a8fa-4e65-ca2d-af784938fec9"
      },
      "source": [
        "# busy month for city and resort hotel\n",
        "busy_month = df.groupby(['arrival_date_month', 'hotel']).size().unstack()\n",
        "busy_month.plot.bar(title = 'Number of Bookings done in each month' , xlabel = 'arrival date month' , ylabel = 'count of booking' , figsize = (13,7),width=0.8)\n",
        "busy_month.reset_index()"
      ],
      "execution_count": null,
      "outputs": [
        {
          "output_type": "execute_result",
          "data": {
            "text/html": [
              "<div>\n",
              "<style scoped>\n",
              "    .dataframe tbody tr th:only-of-type {\n",
              "        vertical-align: middle;\n",
              "    }\n",
              "\n",
              "    .dataframe tbody tr th {\n",
              "        vertical-align: top;\n",
              "    }\n",
              "\n",
              "    .dataframe thead th {\n",
              "        text-align: right;\n",
              "    }\n",
              "</style>\n",
              "<table border=\"1\" class=\"dataframe\">\n",
              "  <thead>\n",
              "    <tr style=\"text-align: right;\">\n",
              "      <th>hotel</th>\n",
              "      <th>arrival_date_month</th>\n",
              "      <th>City Hotel</th>\n",
              "      <th>Resort Hotel</th>\n",
              "    </tr>\n",
              "  </thead>\n",
              "  <tbody>\n",
              "    <tr>\n",
              "      <th>0</th>\n",
              "      <td>April</td>\n",
              "      <td>4942</td>\n",
              "      <td>2772</td>\n",
              "    </tr>\n",
              "    <tr>\n",
              "      <th>1</th>\n",
              "      <td>August</td>\n",
              "      <td>6175</td>\n",
              "      <td>3319</td>\n",
              "    </tr>\n",
              "    <tr>\n",
              "      <th>2</th>\n",
              "      <td>December</td>\n",
              "      <td>2933</td>\n",
              "      <td>2018</td>\n",
              "    </tr>\n",
              "    <tr>\n",
              "      <th>3</th>\n",
              "      <td>February</td>\n",
              "      <td>3568</td>\n",
              "      <td>2425</td>\n",
              "    </tr>\n",
              "    <tr>\n",
              "      <th>4</th>\n",
              "      <td>January</td>\n",
              "      <td>2695</td>\n",
              "      <td>1904</td>\n",
              "    </tr>\n",
              "    <tr>\n",
              "      <th>5</th>\n",
              "      <td>July</td>\n",
              "      <td>5380</td>\n",
              "      <td>3682</td>\n",
              "    </tr>\n",
              "    <tr>\n",
              "      <th>6</th>\n",
              "      <td>June</td>\n",
              "      <td>4770</td>\n",
              "      <td>2473</td>\n",
              "    </tr>\n",
              "    <tr>\n",
              "      <th>7</th>\n",
              "      <td>March</td>\n",
              "      <td>4802</td>\n",
              "      <td>2572</td>\n",
              "    </tr>\n",
              "    <tr>\n",
              "      <th>8</th>\n",
              "      <td>May</td>\n",
              "      <td>5099</td>\n",
              "      <td>2787</td>\n",
              "    </tr>\n",
              "    <tr>\n",
              "      <th>9</th>\n",
              "      <td>November</td>\n",
              "      <td>2897</td>\n",
              "      <td>2005</td>\n",
              "    </tr>\n",
              "    <tr>\n",
              "      <th>10</th>\n",
              "      <td>October</td>\n",
              "      <td>4081</td>\n",
              "      <td>2469</td>\n",
              "    </tr>\n",
              "    <tr>\n",
              "      <th>11</th>\n",
              "      <td>September</td>\n",
              "      <td>4044</td>\n",
              "      <td>2167</td>\n",
              "    </tr>\n",
              "  </tbody>\n",
              "</table>\n",
              "</div>"
            ],
            "text/plain": [
              "hotel arrival_date_month  City Hotel  Resort Hotel\n",
              "0                  April        4942          2772\n",
              "1                 August        6175          3319\n",
              "2               December        2933          2018\n",
              "3               February        3568          2425\n",
              "4                January        2695          1904\n",
              "5                   July        5380          3682\n",
              "6                   June        4770          2473\n",
              "7                  March        4802          2572\n",
              "8                    May        5099          2787\n",
              "9               November        2897          2005\n",
              "10               October        4081          2469\n",
              "11             September        4044          2167"
            ]
          },
          "metadata": {},
          "execution_count": 21
        },
        {
          "output_type": "display_data",
          "data": {
            "image/png": "[encoded data removed]",
            "text/plain": [
              "<Figure size 864x432 with 1 Axes>"
            ]
          },
          "metadata": {
            "needs_background": "light"
          }
        }
      ]
    },
    {
      "cell_type": "markdown",
      "metadata": {
        "id": "_5V4U5EHPY5E"
      },
      "source": [
        "# conclusion\n",
        "* **From above graph we can say that in the month of August, July and May the number of bookings are highest for city hotel.**\n",
        "\n",
        "* **In Resort as well, the number of bookings are highest in the month of August and July and thatswhy August, July and May is called the busiest month of the year.**"
      ]
    },
    {
      "cell_type": "markdown",
      "metadata": {
        "id": "LDqrLmiKPdSw"
      },
      "source": [
        "##**Let see more better visualization of busiest month by using Heatmap.**"
      ]
    },
    {
      "cell_type": "code",
      "metadata": {
        "colab": {
          "base_uri": "https://localhost:8080/",
          "height": 405
        },
        "id": "HgLZaaBBNACP",
        "outputId": "0d553487-a1ec-45e0-8a2f-e6b524ed6bfc"
      },
      "source": [
        "plt.figure(figsize = (10,6))\n",
        "sns.heatmap(pd.crosstab(df.arrival_date_month,df.hotel),cmap='coolwarm') #The purpose of using Heat Maps is to better visualize the volume of locations/events within a dataset"
      ],
      "execution_count": null,
      "outputs": [
        {
          "output_type": "execute_result",
          "data": {
            "text/plain": [
              "<matplotlib.axes._subplots.AxesSubplot at 0x7f61c8ed8a90>"
            ]
          },
          "metadata": {},
          "execution_count": 22
        },
        {
          "output_type": "display_data",
          "data": {
            "image/png": "[encoded data removed]",
            "text/plain": [
              "<Figure size 720x432 with 2 Axes>"
            ]
          },
          "metadata": {
            "needs_background": "light"
          }
        }
      ]
    },
    {
      "cell_type": "markdown",
      "metadata": {
        "id": "TyyJn9R4PpME"
      },
      "source": [
        "##conclusion\n",
        "* **Here i am using heatmap to provide the relation between arrival_date_month and hotel. This gives us an onsight that which are the busiest month of the hotel.**\n",
        "\n",
        "* **The red color says that highest booking followed by City hotel is the month of August, after that July, May, April,etc.**\n",
        "\n",
        "* **However in Resort hotel the only busiest month seems to be August followed by July, the rest of the month do not shows the huge number of hotel booking.**"
      ]
    },
    {
      "cell_type": "markdown",
      "metadata": {
        "id": "DWLcGNzcPtUP"
      },
      "source": [
        "##Q3. Countries with Highest bookings"
      ]
    },
    {
      "cell_type": "code",
      "metadata": {
        "colab": {
          "base_uri": "https://localhost:8080/",
          "height": 940
        },
        "id": "4fXckKN7Pmny",
        "outputId": "f2bd6f1f-b82e-4e65-fbbb-d33e96e2a496"
      },
      "source": [
        "#value_counts will count the values of column, reset_index will sort index according to highest to lowest and renaming the index.\n",
        "country_bookings = df['country'].value_counts()[:20].reset_index().rename(columns = {'index':'Country','country':'number_of_bookings'})\n",
        "\n",
        "#adding percentage column\n",
        "country_bookings['Percentage'] = (country_bookings['number_of_bookings']/country_bookings['number_of_bookings'].sum())*100\n",
        "print(country_bookings)\n",
        "\n",
        "\n",
        "# lets plot the graph\n",
        "plt.figure(figsize=(13,9))\n",
        "sns.barplot(x=\"Country\", y=\"Percentage\", data=country_bookings, edgecolor = 'black',lw=3).set(title='Percentage of guest per country')\n",
        "plt.show()"
      ],
      "execution_count": null,
      "outputs": [
        {
          "output_type": "stream",
          "name": "stdout",
          "text": [
            "   Country  number_of_bookings  Percentage\n",
            "0      PRT               25777   33.803242\n",
            "1      GBR                9568   12.547209\n",
            "2      FRA                8546   11.206987\n",
            "3      ESP                6740    8.838649\n",
            "4      DEU                5131    6.728651\n",
            "5      ITA                2953    3.872482\n",
            "6      IRL                2836    3.719052\n",
            "7      BEL                2005    2.629301\n",
            "8      BRA                1912    2.507344\n",
            "9      NLD                1857    2.435218\n",
            "10     USA                1751    2.296213\n",
            "11     CHE                1491    1.955256\n",
            "12      CN                1028    1.348091\n",
            "13     AUT                 914    1.198594\n",
            "14     SWE                 805    1.055655\n",
            "15     CHN                 800    1.049098\n",
            "16     POL                 729    0.955990\n",
            "17     RUS                 519    0.680602\n",
            "18     NOR                 460    0.603231\n",
            "19     ROU                 434    0.569136\n"
          ]
        },
        {
          "output_type": "display_data",
          "data": {
            "image/png": "[encoded data removed]",
            "text/plain": [
              "<Figure size 936x648 with 1 Axes>"
            ]
          },
          "metadata": {
            "needs_background": "light"
          }
        }
      ]
    },
    {
      "cell_type": "markdown",
      "metadata": {
        "id": "3bhOZcOkP2j5"
      },
      "source": [
        "## conclusion\n",
        "* **In above code we call country column and uses function value_counts which count the total values and in that we uses slicing technique so that we only want top 20 countries.**\n",
        "* **reset_index in pandas is used to reset index of the dataframe object to default indexing and by using rename function we rename the column name index as Country and country as number_of_bookings.**\n",
        "* **We also add percentage column so that it gives the accurate percentage of all the countries.**\n",
        "* **As graph clearly shows that PRT i.e Portugal is the country with maximum percentage of bookings followed by GBR, FRA etc. from Top 20 Countries.**  "
      ]
    },
    {
      "cell_type": "markdown",
      "metadata": {
        "id": "6rXJLtLmP6YI"
      },
      "source": [
        "##Q4. How cancellations vary according to month and which type of hotel has highest number of cancellation?"
      ]
    },
    {
      "cell_type": "code",
      "metadata": {
        "id": "3vlukUwxPmVh"
      },
      "source": [
        "# Replace the values of 0 and 1 with string values for better understanding.\n",
        "df['is_canceled'] = df.is_canceled.replace([1,0], ['canceled', 'not_canceled'])"
      ],
      "execution_count": null,
      "outputs": []
    },
    {
      "cell_type": "code",
      "metadata": {
        "colab": {
          "base_uri": "https://localhost:8080/",
          "height": 1000
        },
        "id": "iovtLOz8PmPh",
        "outputId": "28f44bb9-06d3-46ea-80b6-f043c2deadce"
      },
      "source": [
        "# Here we groupby arrival_date_month with is_canceled to get booking variations accross the months \n",
        "vary_month = df.groupby('arrival_date_month')['is_canceled'].value_counts().unstack()  # stored in a new variable i.e vary_month\n",
        "vary_month.plot(kind='bar',figsize = (12,8))\n",
        "plt.title('Bookings variations accross the months')\n",
        "print(vary_month)\n",
        "\n",
        "# plot the graph for highest number of canceled bookings\n",
        "canceled_hotel = df.groupby(['is_canceled','hotel']).size().unstack()\n",
        "canceled_hotel.plot(kind = 'bar',figsize = (10,6))\n",
        "plt.title('Hotel with highest number of cancellation')"
      ],
      "execution_count": null,
      "outputs": [
        {
          "output_type": "stream",
          "name": "stdout",
          "text": [
            "is_canceled         canceled  not_canceled\n",
            "arrival_date_month                        \n",
            "April                   2331          5383\n",
            "August                  2898          6596\n",
            "December                1296          3655\n",
            "February                1390          4603\n",
            "January                 1015          3584\n",
            "July                    2779          6283\n",
            "June                    2120          5123\n",
            "March                   1780          5594\n",
            "May                     2236          5650\n",
            "November                1022          3880\n",
            "October                 1542          5008\n",
            "September               1495          4716\n"
          ]
        },
        {
          "output_type": "execute_result",
          "data": {
            "text/plain": [
              "Text(0.5, 1.0, 'Hotel with highest number of cancellation')"
            ]
          },
          "metadata": {},
          "execution_count": 25
        },
        {
          "output_type": "display_data",
          "data": {
            "image/png": "[encoded data removed]",
            "text/plain": [
              "<Figure size 864x576 with 1 Axes>"
            ]
          },
          "metadata": {
            "needs_background": "light"
          }
        },
        {
          "output_type": "display_data",
          "data": {
            "image/png": "[encoded data removed]",
            "text/plain": [
              "<Figure size 720x432 with 1 Axes>"
            ]
          },
          "metadata": {
            "needs_background": "light"
          }
        }
      ]
    },
    {
      "cell_type": "markdown",
      "metadata": {
        "id": "hbP22r6BQEhY"
      },
      "source": [
        "## conclusion\n",
        "* **For 'is_canceled' column :- we replace O with 'not_canceled' and 1 with 'canceled'.**\n",
        "* **In above code we groupby arrival_date_month with is_canceled and take out it values by calling value_counts function. We stored this in new variable vary_month and print that variable.**\n",
        "* **From graph 1 we came up from a conclusion that August is the month with maximum cancellations followed by July, May,June and April with lowest cancellations in January.**\n",
        "* **From graph 2 we can say that most of the people were not canceled his bookings, only few were canceled in which City hotel has more number of cancellation as compared to Resort hotel.**"
      ]
    },
    {
      "cell_type": "markdown",
      "metadata": {
        "id": "W_K3RkktQH8k"
      },
      "source": [
        "##Q5. Which meals were customer prefer the most?"
      ]
    },
    {
      "cell_type": "code",
      "metadata": {
        "colab": {
          "base_uri": "https://localhost:8080/",
          "height": 685
        },
        "id": "bnbMSVqkQDvN",
        "outputId": "c275d470-3415-40bb-8a77-b19cf62e545a"
      },
      "source": [
        "# preferred type of meal\n",
        "\n",
        "preferred_meal = df.meal.value_counts(normalize=True)*100     # this line give the values in percentage\n",
        "print(preferred_meal)\n",
        "\n",
        "#plotting the Graph\n",
        "plt.figure(figsize=(10,8))\n",
        "preferred_meal.plot(kind='bar', color ='purple', edgecolor ='red', lw = 3)\n",
        "plt.title('Meal Prefered by Customer', size =15)\n",
        "plt.xlabel('Meal Type',size=15)\n",
        "plt.ylabel('Count of booking',size =15)"
      ],
      "execution_count": null,
      "outputs": [
        {
          "output_type": "stream",
          "name": "stdout",
          "text": [
            "BB           78.307859\n",
            "SC           11.417558\n",
            "HB            9.373132\n",
            "Undefined     0.547701\n",
            "FB            0.353749\n",
            "Name: meal, dtype: float64\n"
          ]
        },
        {
          "output_type": "execute_result",
          "data": {
            "text/plain": [
              "Text(0, 0.5, 'Count of booking')"
            ]
          },
          "metadata": {},
          "execution_count": 26
        },
        {
          "output_type": "display_data",
          "data": {
            "image/png": "[encoded data removed]",
            "text/plain": [
              "<Figure size 720x576 with 1 Axes>"
            ]
          },
          "metadata": {
            "needs_background": "light"
          }
        }
      ]
    },
    {
      "cell_type": "markdown",
      "metadata": {
        "id": "qw1lkNZpQO5n"
      },
      "source": [
        "## conclusion\n",
        "* **Here i am calling the meal column from dataset and apply condition value_counts(normalize=True)*100 means we want the values in percentage and stored in a new variable preferred_meal.**\n",
        "* **By seeing graph we can clearly say that most preferrable meal BB i.e Bed and Breakfast with approximate 78% and followed by SC(Super Combo),HB(Half Baked).**\n",
        "* **Very less preferrable meal is FB i.e Full Breakfast and Undefined i.e no meal package.**"
      ]
    },
    {
      "cell_type": "markdown",
      "metadata": {
        "id": "dv-9zwx-QS_D"
      },
      "source": [
        "##Q6. Relation between repeated customer and cancellation."
      ]
    },
    {
      "cell_type": "code",
      "metadata": {
        "colab": {
          "base_uri": "https://localhost:8080/",
          "height": 558
        },
        "id": "4DqFL4DMPmKR",
        "outputId": "9da20878-76c1-4146-e631-92231be3fecc"
      },
      "source": [
        "# again the same step by replacing 1,0 of is_canceled and is_repeated_guest to string values.\n",
        "df['is_canceled'] = df.is_canceled.replace([1,0], ['canceled', 'not_canceled'])\n",
        "df['is_repeated_guest'] = df.is_repeated_guest.replace([1,0], ['repeated', 'not_repeated'])\n",
        "\n",
        "#Plotting graph\n",
        "df=df.groupby(['is_canceled','is_repeated_guest']).size()\n",
        "df.plot(kind='bar', color ='pink', edgecolor ='red', lw = 3, figsize = (10,6));\n",
        "plt.ylabel('Bookings')\n",
        "plt.title('Relation between repeated customer and cancellation')"
      ],
      "execution_count": null,
      "outputs": [
        {
          "output_type": "execute_result",
          "data": {
            "text/plain": [
              "Text(0.5, 1.0, 'Relation between repeated customer and cancellation')"
            ]
          },
          "metadata": {},
          "execution_count": 27
        },
        {
          "output_type": "display_data",
          "data": {
            "image/png": "[encoded data removed]",
            "text/plain": [
              "<Figure size 720x432 with 1 Axes>"
            ]
          },
          "metadata": {
            "needs_background": "light"
          }
        }
      ]
    },
    {
      "cell_type": "markdown",
      "metadata": {
        "id": "QIq5QWqiQaOT"
      },
      "source": [
        "## conclusion\n",
        "* **The feature 'is_canceled' and 'is_repeated_guest' have values 0 and 1.**\n",
        " * For 'is_canceled' :- 0 stands for 'not_canceled' and 1 stands for 'canceled'.\n",
        "  * For 'is_repeated_guest' :- 0 stands for 'not_repeated' and 1 stands for 'repeated'*\n",
        "* **It is important to find out whether the hotel booking is cancelled and whether the customer is repeated guest or not.**\n",
        "\n",
        "* **We see that when the hotel booking is cancelled and customer is a repeated guest then entry is almost zero which means that repeated guest is less likely to cancelled his booking.**\n",
        "* **And from graph we say that there is a highest number of booking which were not cancelled and customer is not a repeated guest.**"
      ]
    },
    {
      "cell_type": "markdown",
      "metadata": {
        "id": "1nUWOCPtQboL"
      },
      "source": [
        "##Q7. Whether the guest stay in over a weekend or weekday."
      ]
    },
    {
      "cell_type": "code",
      "metadata": {
        "colab": {
          "base_uri": "https://localhost:8080/",
          "height": 928
        },
        "id": "Hy-9ZfN5PmFQ",
        "outputId": "755052d0-8778-4e19-ce5e-30cfe78c56c2"
      },
      "source": [
        "#plot graph for column Stay on weekend nights\n",
        "plt.figure(figsize=(9,7))\n",
        "sns.countplot(data = data, x = 'stays_in_weekend_nights').set_title('Stay on weekend nights', fontsize = 20)\n",
        "\n",
        "#plot graph for Stay on weekday nights\n",
        "plt.figure(figsize=(9,7))\n",
        "sns.countplot(data = data, x = 'stays_in_week_nights' ).set_title('Stay on weekday nights' , fontsize = 20)"
      ],
      "execution_count": null,
      "outputs": [
        {
          "output_type": "execute_result",
          "data": {
            "text/plain": [
              "Text(0.5, 1.0, 'Stay on weekday nights')"
            ]
          },
          "metadata": {},
          "execution_count": 28
        },
        {
          "output_type": "display_data",
          "data": {
            "image/png": "[encoded data removed]",
            "text/plain": [
              "<Figure size 648x504 with 1 Axes>"
            ]
          },
          "metadata": {
            "needs_background": "light"
          }
        },
        {
          "output_type": "display_data",
          "data": {
            "image/png": "[encoded data removed]",
            "text/plain": [
              "<Figure size 648x504 with 1 Axes>"
            ]
          },
          "metadata": {
            "needs_background": "light"
          }
        }
      ]
    },
    {
      "cell_type": "markdown",
      "metadata": {
        "id": "mtfj3iBMQlik"
      },
      "source": [
        "## conclusion\n",
        "* **From both graph it seems that majority of the guest stays are over the weekday's night.**\n",
        "* **Most of the guest stay in weekdays for around 0,1,2,3,4 and 5 nights and,**\n",
        "* **Most of the guest stay in weekends for 0,1 and 2 nights respectively.**"
      ]
    },
    {
      "cell_type": "markdown",
      "metadata": {
        "id": "kEWZca2jQotm"
      },
      "source": [
        "##Q8. Bookings by market segment and distribution channel."
      ]
    },
    {
      "cell_type": "code",
      "metadata": {
        "colab": {
          "base_uri": "https://localhost:8080/"
        },
        "id": "TuTvz-ZxQlC_",
        "outputId": "660149d5-9a70-4a41-d31f-5785586a1157"
      },
      "source": [
        "data.market_segment.value_counts(normalize=True)*100      # here I am using my original 'data' variable "
      ],
      "execution_count": null,
      "outputs": [
        {
          "output_type": "execute_result",
          "data": {
            "text/plain": [
              "Online TA        47.304632\n",
              "Offline TA/TO    20.285619\n",
              "Groups           16.593517\n",
              "Direct           10.558673\n",
              "Corporate         4.435045\n",
              "Complementary     0.622330\n",
              "Aviation          0.198509\n",
              "Undefined         0.001675\n",
              "Name: market_segment, dtype: float64"
            ]
          },
          "metadata": {},
          "execution_count": 29
        }
      ]
    },
    {
      "cell_type": "code",
      "metadata": {
        "colab": {
          "base_uri": "https://localhost:8080/"
        },
        "id": "iiD8iKZWPmA6",
        "outputId": "43996347-ccd4-484b-a9db-890f290a3b68"
      },
      "source": [
        "data.distribution_channel.value_counts(normalize=True)*100"
      ],
      "execution_count": null,
      "outputs": [
        {
          "output_type": "execute_result",
          "data": {
            "text/plain": [
              "TA/TO        81.975040\n",
              "Direct       12.266521\n",
              "Corporate     5.592596\n",
              "GDS           0.161655\n",
              "Undefined     0.004188\n",
              "Name: distribution_channel, dtype: float64"
            ]
          },
          "metadata": {},
          "execution_count": 30
        }
      ]
    },
    {
      "cell_type": "code",
      "metadata": {
        "colab": {
          "base_uri": "https://localhost:8080/",
          "height": 911
        },
        "id": "WXNZC6tZMIdE",
        "outputId": "ac80ad70-b688-46db-f814-724c87f91b15"
      },
      "source": [
        "#plotting graph for market segment\n",
        "fig, ax = plt.subplots(figsize = (12,7))\n",
        "sns.countplot(data['market_segment'], palette='husl',edgecolor = 'lightgreen', lw=3).set_title('Types of Market segment', fontsize = 20)\n",
        "for p in ax.patches:                               \n",
        "    height = p.get_height()\n",
        "    ax.text(p.get_x()+p.get_width()/2, height+500, '{:1.2f}''%'.format(height/data.shape[0]*100),ha = \"center\")\n",
        "plt.show()\n",
        "\n",
        "\n",
        "#plotting graph for distribution channel\n",
        "fig, ax = plt.subplots(figsize = (12,7))\n",
        "sns.countplot(data['distribution_channel'],palette='husl',edgecolor = 'lightgreen', lw=3).set_title('Types of distribution channel', fontsize = 20)\n",
        "for p in ax.patches:                               \n",
        "    height = p.get_height()\n",
        "    ax.text(p.get_x()+p.get_width()/2, height+500, '{:1.2f}''%'.format(height/data.shape[0]*100),ha = \"center\")\n",
        "plt.show()"
      ],
      "execution_count": null,
      "outputs": [
        {
          "output_type": "display_data",
          "data": {
            "image/png": "[encoded data removed]",
            "text/plain": [
              "<Figure size 864x504 with 1 Axes>"
            ]
          },
          "metadata": {
            "needs_background": "light"
          }
        },
        {
          "output_type": "display_data",
          "data": {
            "image/png": "[encoded data removed]",
            "text/plain": [
              "<Figure size 864x504 with 1 Axes>"
            ]
          },
          "metadata": {
            "needs_background": "light"
          }
        }
      ]
    },
    {
      "cell_type": "markdown",
      "metadata": {
        "id": "scHDH-yJQ6j_"
      },
      "source": [
        "## conclusion\n",
        "* **In categories, the term “TA” means “Travel Agents” and “TO” means “Tour Operators.**\n",
        "\n",
        "* **Majority of the distribution channels and market segments involve travel agencies (online or offline).**\n",
        "* **Through market segment TA(online) and TA/To(offline) segments round 47.30% & 20.29% and through distribution channel  TA/To segments round 81.98% respectively.**"
      ]
    },
    {
      "cell_type": "markdown",
      "metadata": {
        "id": "47ajjw3dQ-PO"
      },
      "source": [
        "##Q9. Exploring Number of Special Requests."
      ]
    },
    {
      "cell_type": "code",
      "metadata": {
        "colab": {
          "base_uri": "https://localhost:8080/",
          "height": 232
        },
        "id": "9L4TAil2Q6Q1",
        "outputId": "d6198905-96e1-4aff-f0ef-e7320022598e"
      },
      "source": [
        "data['total_of_special_requests'].value_counts(normalize = True).reset_index().rename(columns = {'index':'count','total_of_special_requests':'Special requests in %'}) "
      ],
      "execution_count": null,
      "outputs": [
        {
          "output_type": "execute_result",
          "data": {
            "text/html": [
              "<div>\n",
              "<style scoped>\n",
              "    .dataframe tbody tr th:only-of-type {\n",
              "        vertical-align: middle;\n",
              "    }\n",
              "\n",
              "    .dataframe tbody tr th {\n",
              "        vertical-align: top;\n",
              "    }\n",
              "\n",
              "    .dataframe thead th {\n",
              "        text-align: right;\n",
              "    }\n",
              "</style>\n",
              "<table border=\"1\" class=\"dataframe\">\n",
              "  <thead>\n",
              "    <tr style=\"text-align: right;\">\n",
              "      <th></th>\n",
              "      <th>count</th>\n",
              "      <th>Special requests in %</th>\n",
              "    </tr>\n",
              "  </thead>\n",
              "  <tbody>\n",
              "    <tr>\n",
              "      <th>0</th>\n",
              "      <td>0</td>\n",
              "      <td>0.588977</td>\n",
              "    </tr>\n",
              "    <tr>\n",
              "      <th>1</th>\n",
              "      <td>1</td>\n",
              "      <td>0.278298</td>\n",
              "    </tr>\n",
              "    <tr>\n",
              "      <th>2</th>\n",
              "      <td>2</td>\n",
              "      <td>0.108627</td>\n",
              "    </tr>\n",
              "    <tr>\n",
              "      <th>3</th>\n",
              "      <td>3</td>\n",
              "      <td>0.020915</td>\n",
              "    </tr>\n",
              "    <tr>\n",
              "      <th>4</th>\n",
              "      <td>4</td>\n",
              "      <td>0.002848</td>\n",
              "    </tr>\n",
              "    <tr>\n",
              "      <th>5</th>\n",
              "      <td>5</td>\n",
              "      <td>0.000335</td>\n",
              "    </tr>\n",
              "  </tbody>\n",
              "</table>\n",
              "</div>"
            ],
            "text/plain": [
              "   count  Special requests in %\n",
              "0      0               0.588977\n",
              "1      1               0.278298\n",
              "2      2               0.108627\n",
              "3      3               0.020915\n",
              "4      4               0.002848\n",
              "5      5               0.000335"
            ]
          },
          "metadata": {},
          "execution_count": 32
        }
      ]
    },
    {
      "cell_type": "code",
      "metadata": {
        "colab": {
          "base_uri": "https://localhost:8080/",
          "height": 457
        },
        "id": "M9Zqon33Q20p",
        "outputId": "13037102-5bc1-4c4f-815b-73db97dae7cc"
      },
      "source": [
        "# potting graph for special requests\n",
        "fig, ax = plt.subplots(figsize = (9,7))\n",
        "sns.countplot(x='total_of_special_requests', data=data, palette = 'spring_r',edgecolor = 'violet', lw=3)\n",
        "plt.title('Total Special Request', weight='bold')\n",
        "plt.xlabel('Number of Special Request')\n",
        "plt.ylabel('Booking Counts')\n",
        "\n",
        "for p in ax.patches:                               \n",
        "    height = p.get_height()\n",
        "    ax.text(p.get_x()+p.get_width()/2, height+500, '{:1.2f}''%'.format(height/data.shape[0]*100),ha = \"center\")"
      ],
      "execution_count": null,
      "outputs": [
        {
          "output_type": "display_data",
          "data": {
            "image/png": "[encoded data removed]",
            "text/plain": [
              "<Figure size 648x504 with 1 Axes>"
            ]
          },
          "metadata": {
            "needs_background": "light"
          }
        }
      ]
    },
    {
      "cell_type": "markdown",
      "metadata": {
        "id": "2lWvhFzCRHji"
      },
      "source": [
        "## conclusion\n",
        "* **From the above graph around 58.9% bookings do not have any special requests from the guests.**\n",
        "* **For one day 27.8% bookings have a special request from the guests.**\n",
        "* **There are around 10.86% and 2.09% bookings for two and three days.**\n",
        "* **And we can say that very less number of guest book a special request for four and five days i.e 0.28%, 0.03%.**"
      ]
    },
    {
      "cell_type": "markdown",
      "metadata": {
        "id": "a3X3KD2oT8Yr"
      },
      "source": [
        "##Summary\n",
        "**1. We see that majority of the hotels booked are City hotel, we should need to spend the most targeting fund on these hotels.**\n",
        "\n",
        "**2. Most of the bookings were made from July to August, so these months are peak in business expansion and need to look after more customer satisfaction.**\n",
        "\n",
        "**3. Portugal, Great Britain, France, Spain are the list of top countries where most of the guest come from.**\n",
        "\n",
        "**4. As seen above City hotel has highest number of cancellation, so according to hotel point of view the cancellation should be reduce by applying non refundable charges, so it might be directly affect to guest so there is a possibility that cancellation should be reduced.**\n",
        "\n",
        "**5. We see that from graph we have very less repeated guests, so we should target our advertisement on these guests by offering special discounts to increase the returning guests.**\n",
        "\n",
        "**6. Also hotels should consider maximum number of special requests from guests because it will to reduce the possibility of cancellations which will evantually help in better customer experience for the guest.**"
      ]
    }
  ]
}